{
 "cells": [
  {
   "cell_type": "code",
   "execution_count": 12,
   "id": "256a06e8-5c19-493f-b597-b21467b7d585",
   "metadata": {},
   "outputs": [
    {
     "name": "stdout",
     "output_type": "stream",
     "text": [
      "root\n",
      " |-- title: string (nullable = true)\n",
      " |-- rank: string (nullable = true)\n",
      " |-- date: string (nullable = true)\n",
      " |-- artist: string (nullable = true)\n",
      " |-- url: string (nullable = true)\n",
      " |-- region: string (nullable = true)\n",
      " |-- chart: string (nullable = true)\n",
      " |-- trend: string (nullable = true)\n",
      " |-- streams: string (nullable = true)\n",
      "\n"
     ]
    }
   ],
   "source": [
    "from pyspark.sql import SparkSession\n",
    "from pyspark import SparkConf\n",
    "\n",
    "sparkConf = SparkConf()\n",
    "sparkConf.setMaster(\"spark://spark-master:7077\")\n",
    "sparkConf.setAppName(\"Charts Pipeline\")\n",
    "sparkConf.set(\"spark.driver.memory\", \"2g\")\n",
    "sparkConf.set(\"spark.executor.cores\", \"1\")\n",
    "sparkConf.set(\"spark.driver.cores\", \"1\")\n",
    "# create the spark session, which is the entry point to Spark SQL engine.\n",
    "spark = SparkSession.builder.config(conf=sparkConf).getOrCreate()\n",
    "\n",
    "# Setup hadoop fs configuration for schema gs://\n",
    "conf = spark.sparkContext._jsc.hadoopConfiguration()\n",
    "conf.set(\"fs.gs.impl\", \"com.google.cloud.hadoop.fs.gcs.GoogleHadoopFileSystem\")\n",
    "conf.set(\"fs.AbstractFileSystem.gs.impl\", \"com.google.cloud.hadoop.fs.gcs.GoogleHadoopFS\")\n",
    "\n",
    "#  Google Storage File Path\n",
    "gsc_file_path = 'gs://spotify_data_de/charts.csv'\n",
    "\n",
    "# Create data frame\n",
    "df = spark.read.format(\"csv\").option(\"header\", \"true\") \\\n",
    "       .load(gsc_file_path)\n",
    "\n",
    "df.printSchema()"
   ]
  },
  {
   "cell_type": "code",
   "execution_count": 13,
   "id": "ca92c116-83cf-4405-b755-0e3f6e28ff80",
   "metadata": {},
   "outputs": [
    {
     "name": "stdout",
     "output_type": "stream",
     "text": [
      "root\n",
      " |-- title: string (nullable = true)\n",
      " |-- rank: integer (nullable = true)\n",
      " |-- artist: string (nullable = true)\n",
      " |-- url: string (nullable = true)\n",
      " |-- region: string (nullable = true)\n",
      " |-- chart: string (nullable = true)\n",
      " |-- trend: string (nullable = true)\n",
      " |-- streams: integer (nullable = true)\n",
      " |-- conv_date: date (nullable = true)\n",
      "\n"
     ]
    }
   ],
   "source": [
    "#Change datatypings to the correct type hints\n",
    "from pyspark.sql.functions import *\n",
    "from pyspark.sql.types import NumericType, IntegerType\n",
    "\n",
    "df = df.withColumn(\"streams\",col(\"streams\").cast(IntegerType()))\n",
    "df = df.withColumn(\"rank\",col(\"rank\").cast(IntegerType()))\n",
    "df = df.select(\"*\", col(\"date\"), to_date(col(\"date\"),\"yyyy-MM-dd\").alias(\"conv_date\")).drop(\"date\")\n",
    "\n",
    "df.printSchema()"
   ]
  },
  {
   "cell_type": "code",
   "execution_count": 14,
   "id": "dca149f2-f10f-423c-a991-873fed2e38c5",
   "metadata": {},
   "outputs": [],
   "source": [
    "top200 = df.filter(df.chart == 'top200')\n",
    "\n",
    "df_grouped = top200.groupby(col('title')).max(\"streams\")"
   ]
  },
  {
   "cell_type": "code",
   "execution_count": 15,
   "id": "982de067-a8a3-4807-b137-e8c210214bf2",
   "metadata": {},
   "outputs": [
    {
     "name": "stdout",
     "output_type": "stream",
     "text": [
      "+--------------------+------------+\n",
      "|               title|max(streams)|\n",
      "+--------------------+------------+\n",
      "|We Don't Talk Any...|     1190610|\n",
      "|  Persiana Americana|       65346|\n",
      "|        Sunset Lover|     1068294|\n",
      "|Cheerleader - Fel...|      636702|\n",
      "|          Soits lebn|        1354|\n",
      "|          Don't Mind|       36905|\n",
      "|Materialista (fea...|       11938|\n",
      "|        La Gota Fría|        8128|\n",
      "|When You Love Som...|       98264|\n",
      "|Let Me Love You -...|       13533|\n",
      "|       Till It Hurts|       24147|\n",
      "|Keep It Mello (fe...|        4818|\n",
      "|              Dahulu|        6440|\n",
      "|       The Beginning|       29625|\n",
      "|              Remedy|       81329|\n",
      "|              Heaven|     3339581|\n",
      "|No Promises (feat...|     2176314|\n",
      "|            Senorita|      387984|\n",
      "|      Alles probiert|      195448|\n",
      "|Rapariga Não - Ao...|      149839|\n",
      "+--------------------+------------+\n",
      "only showing top 20 rows\n",
      "\n"
     ]
    }
   ],
   "source": [
    "df_grouped.show(20)"
   ]
  },
  {
   "cell_type": "code",
   "execution_count": 16,
   "id": "78c21a23-dd65-4792-8a75-950a9a21ff76",
   "metadata": {},
   "outputs": [
    {
     "name": "stdout",
     "output_type": "stream",
     "text": [
      "+--------------------+------------+----+--------------------+--------------------+-----------+-------+-------------+-------+----------+\n",
      "|               title|max(streams)|rank|              artist|                 url|     region|  chart|        trend|streams| conv_date|\n",
      "+--------------------+------------+----+--------------------+--------------------+-----------+-------+-------------+-------+----------+\n",
      "|          Easy On Me|    19749704|  50|               Adele|https://open.spot...|  Argentina| top200|      MOVE_UP|  71132|2021-11-01|\n",
      "|All I Want for Ch...|    17223237| 109|        Mariah Carey|https://open.spot...|    Belgium| top200|      MOVE_UP|   3246|2017-01-01|\n",
      "|      Last Christmas|    15813799| 104|               Wham!|https://open.spot...|    Belgium| top200|      MOVE_UP|   3323|2017-01-01|\n",
      "|     drivers license|    13714177|  72|      Olivia Rodrigo|https://open.spot...|  Argentina| top200|    MOVE_DOWN|  50033|2021-07-01|\n",
      "|            good 4 u|    12586645|  27|      Olivia Rodrigo|https://open.spot...|  Argentina| top200|    MOVE_DOWN| 125414|2021-07-01|\n",
      "|Girls Want Girls ...|    12384750|  72|               Drake|https://open.spot...|  Australia| top200|      MOVE_UP|  48915|2021-11-01|\n",
      "|       Santa Tell Me|    12229331| 104|       Ariana Grande|https://open.spot...|    Denmark| top200|      MOVE_UP|  11966|2018-11-01|\n",
      "|It's Beginning to...|    11975033|  21|       Michael Bublé|https://open.spot...|  Australia| top200|      MOVE_UP| 103711|2018-12-01|\n",
      "|    Jingle Bell Rock|    11924353|  73|         Bobby Helms|https://open.spot...|  Australia| top200|    NEW_ENTRY|  53069|2018-12-01|\n",
      "|Rockin' Around Th...|    11801426|  76|          Brenda Lee|https://open.spot...|  Australia| top200|    NEW_ENTRY|  52408|2018-12-01|\n",
      "|    Champagne Poetry|    11696783| 133|               Drake|https://open.spot...|  Australia| top200|    MOVE_DOWN|  36630|2021-10-01|\n",
      "|Fair Trade (with ...|    11642541|  46|               Drake|https://open.spot...|  Australia| top200|      MOVE_UP|  66593|2021-11-01|\n",
      "|Despacito (Featur...|    11381520|  88|          Luis Fonsi|https://open.spot...|  Argentina| top200|    MOVE_DOWN|  26710|2018-03-01|\n",
      "|              Butter|    11042335| 156|          Triple One|https://open.spot...|  Australia| top200|    NEW_ENTRY|  31791|2019-04-01|\n",
      "|I Don't Care (wit...|    10977389|  91|          Ed Sheeran|https://open.spot...|  Australia| top200|    MOVE_DOWN|  48187|2020-05-01|\n",
      "|STAY (with Justin...|    10629302|   2|       The Kid LAROI|https://open.spot...|    Iceland| top200|SAME_POSITION|   6793|2021-09-18|\n",
      "|             7 rings|    10445538| 182|       Ariana Grande|https://open.spot...|     Canada| top200|    MOVE_DOWN|  31660|2020-05-01|\n",
      "|It's the Most Won...|    10429582|  40|       Andy Williams|https://open.spot...|Philippines|viral50|    NEW_ENTRY|   null|2017-09-03|\n",
      "|                SAD!|    10415088|  59|        XXXTENTACION|https://open.spot...|  Australia| top200|    NEW_ENTRY|  58902|2018-03-02|\n",
      "|              DÁKITI|    10086143|  47|Bad Bunny, Jhay C...|https://open.spot...|  Argentina| top200|SAME_POSITION|  81062|2021-07-01|\n",
      "+--------------------+------------+----+--------------------+--------------------+-----------+-------+-------------+-------+----------+\n",
      "only showing top 20 rows\n",
      "\n"
     ]
    }
   ],
   "source": [
    "joinExpression = ['title']\n",
    "merged_df = df_grouped.join(df, joinExpression,\"left\")\n",
    "final_df = merged_df.dropDuplicates(['title'])\n",
    "final_df.orderBy(col('max(streams)').desc()).show(20)"
   ]
  },
  {
   "cell_type": "code",
   "execution_count": 17,
   "id": "59f121ad-630f-4b0b-9742-cb874f87cec1",
   "metadata": {},
   "outputs": [
    {
     "name": "stdout",
     "output_type": "stream",
     "text": [
      "+--------------------+--------------------+--------------------+------------+\n",
      "|              artist|performance_category|               title|max(streams)|\n",
      "+--------------------+--------------------+--------------------+------------+\n",
      "|\"@LMK ~ LoveMusic...|        Most streams|            Emotionz|        4418|\n",
      "|\"Arturo \"\"Zambo\"\"...|       Least streams|Popurri de Valses...|       10046|\n",
      "|\"Arturo \"\"Zambo\"\"...|        Most streams|    Se Acabó y Punto|       22303|\n",
      "|\"Boy Wonder CF, T...|        Most streams|Siente el Boom (f...|       25858|\n",
      "|\"Fruko Y Sus Teso...|       Least streams|         Los Charcos|       18883|\n",
      "|\"Fruko Y Sus Teso...|        Most streams|            El Preso|       27051|\n",
      "|\"Gotay \"\"El Auten...|        Most streams|           Más De Ti|       13141|\n",
      "|\"Héctor Acosta \"\"...|        Most streams|  Amorcito Enfermito|        2216|\n",
      "|\"Interpreti dello...|        Most streams|          Bella ciao|       74922|\n",
      "|\"Musicologo The L...|        Most streams| Bum Bam Ven - Remix|        4074|\n",
      "+--------------------+--------------------+--------------------+------------+\n",
      "only showing top 10 rows\n",
      "\n"
     ]
    }
   ],
   "source": [
    "#Best and worst performing song per artist that reached the top200\n",
    "from pyspark.sql import Row, Window\n",
    "\n",
    "windowdesc = Window.partitionBy(col('artist')).orderBy(col('max(streams)').desc())\n",
    "windowasc = Window.partitionBy(col('artist')).orderBy(col('max(streams)').asc())\n",
    "\n",
    "songs_merged_windowed = final_df.withColumn('rank_desc', dense_rank().over(windowdesc)).withColumn('rank_asc', dense_rank().over(windowasc))\n",
    "\n",
    "worst_best_song_table = songs_merged_windowed.where((col('rank_desc') == 1) | (col('rank_asc') == 1) ).select('*')\n",
    "\n",
    "worst_best_song_table2 = worst_best_song_table.withColumn('performance_category', when(col('rank_desc') == 1, 'Most streams')\n",
    "                                                          .otherwise('Least streams')).select('artist', 'performance_category', 'title', 'max(streams)')\n",
    "worst_best_song_table2.show(10)"
   ]
  },
  {
   "cell_type": "code",
   "execution_count": 18,
   "id": "334382e9-d801-4709-a71e-a8de85ce5dae",
   "metadata": {},
   "outputs": [],
   "source": [
    "bucket = \"spotify_data_de\"\n",
    "spark.conf.set('temporaryGcsBucket', bucket)\n",
    "# Saving the data to BigQuery\n",
    "worst_best_song_table2.write.format('bigquery') \\\n",
    "  .option('table', 'de2022-362617.spotify.charts') \\\n",
    "  .mode(\"overwrite\") \\\n",
    "  .save()"
   ]
  },
  {
   "cell_type": "code",
   "execution_count": 11,
   "id": "aa621131-26cb-48a8-8f6b-6e01934395ae",
   "metadata": {},
   "outputs": [],
   "source": [
    "# Stop the spark context\n",
    "spark.stop()"
   ]
  }
 ],
 "metadata": {
  "kernelspec": {
   "display_name": "Python 3 (ipykernel)",
   "language": "python",
   "name": "python3"
  },
  "language_info": {
   "codemirror_mode": {
    "name": "ipython",
    "version": 3
   },
   "file_extension": ".py",
   "mimetype": "text/x-python",
   "name": "python",
   "nbconvert_exporter": "python",
   "pygments_lexer": "ipython3",
   "version": "3.10.6"
  }
 },
 "nbformat": 4,
 "nbformat_minor": 5
}
