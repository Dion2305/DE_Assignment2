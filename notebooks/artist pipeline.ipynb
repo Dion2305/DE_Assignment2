{
 "cells": [
  {
   "cell_type": "code",
   "execution_count": 33,
   "id": "256a06e8-5c19-493f-b597-b21467b7d585",
   "metadata": {},
   "outputs": [
    {
     "name": "stdout",
     "output_type": "stream",
     "text": [
      "root\n",
      " |-- mbid: string (nullable = true)\n",
      " |-- artist_mb: string (nullable = true)\n",
      " |-- artist_lastfm: string (nullable = true)\n",
      " |-- country_mb: string (nullable = true)\n",
      " |-- country_lastfm: string (nullable = true)\n",
      " |-- tags_mb: string (nullable = true)\n",
      " |-- tags_lastfm: string (nullable = true)\n",
      " |-- listeners_lastfm: string (nullable = true)\n",
      " |-- scrobbles_lastfm: string (nullable = true)\n",
      " |-- ambiguous_artist: string (nullable = true)\n",
      "\n"
     ]
    }
   ],
   "source": [
    "from pyspark.sql import SparkSession\n",
    "from pyspark import SparkConf\n",
    "\n",
    "sparkConf = SparkConf()\n",
    "sparkConf.setMaster(\"spark://spark-master:7077\")\n",
    "sparkConf.setAppName(\"Artists Pipeline\")\n",
    "sparkConf.set(\"spark.driver.memory\", \"2g\")\n",
    "sparkConf.set(\"spark.executor.cores\", \"1\")\n",
    "sparkConf.set(\"spark.driver.cores\", \"1\")\n",
    "# create the spark session, which is the entry point to Spark SQL engine.\n",
    "spark = SparkSession.builder.config(conf=sparkConf).getOrCreate()\n",
    "\n",
    "# Setup hadoop fs configuration for schema gs://\n",
    "conf = spark.sparkContext._jsc.hadoopConfiguration()\n",
    "conf.set(\"fs.gs.impl\", \"com.google.cloud.hadoop.fs.gcs.GoogleHadoopFileSystem\")\n",
    "conf.set(\"fs.AbstractFileSystem.gs.impl\", \"com.google.cloud.hadoop.fs.gcs.GoogleHadoopFS\")\n",
    "\n",
    "#  Google Storage File Path\n",
    "gsc_file_path = 'gs://spotify_data_de/artists.csv'\n",
    "# gsc_file_path = 'gs://spotify_data_de/tester2.csv'\n",
    "\n",
    "# Create data frame\n",
    "df = spark.read.format(\"csv\").option(\"header\", \"true\") \\\n",
    "       .load(gsc_file_path)\n",
    "\n",
    "df.printSchema()"
   ]
  },
  {
   "cell_type": "code",
   "execution_count": 34,
   "id": "ca92c116-83cf-4405-b755-0e3f6e28ff80",
   "metadata": {},
   "outputs": [
    {
     "name": "stdout",
     "output_type": "stream",
     "text": [
      "root\n",
      " |-- artist_mb: string (nullable = true)\n",
      " |-- country_mb: string (nullable = true)\n",
      " |-- listeners_lastfm: integer (nullable = true)\n",
      "\n"
     ]
    }
   ],
   "source": [
    "#Change datatypings to the correct type hints and selecting subset\n",
    "from pyspark.sql.functions import *\n",
    "from pyspark.sql.types import NumericType, IntegerType\n",
    "df = df.na.drop(subset=['artist_mb','country_mb', 'listeners_lastfm'])\n",
    "df = df.select('artist_mb','country_mb', 'listeners_lastfm')\n",
    "\n",
    "df = df.withColumn(\"listeners_lastfm\",col(\"listeners_lastfm\").cast(IntegerType()))\n",
    "\n",
    "df.printSchema()"
   ]
  },
  {
   "cell_type": "code",
   "execution_count": 35,
   "id": "59f121ad-630f-4b0b-9742-cb874f87cec1",
   "metadata": {},
   "outputs": [
    {
     "name": "stdout",
     "output_type": "stream",
     "text": [
      "+-------------------+--------------------+--------------------+----------------+\n",
      "|         country_mb|performance_category|           artist_mb|listeners_lastfm|\n",
      "+-------------------+--------------------+--------------------+----------------+\n",
      "|         Bumblefoot|      Most listeners| Steve “Lips” Kudlow|            null|\n",
      "| id. Csillag Ferenc|      Most listeners|\"Farkas Rudolf \"\"...|            null|\n",
      "|        Afghanistan|     Least listeners|Abdulhakím Khudáy...|               0|\n",
      "|        Afghanistan|     Least listeners|     Akhmad Bakhhshi|               0|\n",
      "|        Afghanistan|      Most listeners|                Adam|           23540|\n",
      "|            Albania|     Least listeners|            Dardanny|               1|\n",
      "|            Albania|     Least listeners|    Florian Mumajesi|               1|\n",
      "|            Albania|     Least listeners|      Jorgo Papingji|               1|\n",
      "|            Albania|     Least listeners|         Sokol Marsi|               1|\n",
      "|            Albania|      Most listeners|          King Ku$ha|           14046|\n",
      "+-------------------+--------------------+--------------------+----------------+\n",
      "only showing top 10 rows\n",
      "\n"
     ]
    }
   ],
   "source": [
    "#Bestand worst performing artist per country\n",
    "from pyspark.sql import Row, Window\n",
    "\n",
    "windowdesc = Window.partitionBy(col('country_mb')).orderBy(col('listeners_lastfm').desc())\n",
    "windowasc = Window.partitionBy(col('country_mb')).orderBy(col('listeners_lastfm').asc())\n",
    "\n",
    "artists_merged_windowed = df.withColumn('rank_desc', dense_rank().over(windowdesc)).withColumn('rank_asc', dense_rank().over(windowasc))\n",
    "\n",
    "worst_best_artist_table = artists_merged_windowed.where((col('rank_desc') == 1) | (col('rank_asc') == 1) ).select('*')\n",
    "\n",
    "worst_best_artist_table2 = worst_best_artist_table.withColumn('performance_category', when(col('rank_desc') == 1, 'Most listeners')\n",
    "                                                          .otherwise('Least listeners')).select('country_mb', 'performance_category', 'artist_mb', 'listeners_lastfm')\n",
    "worst_best_artist_table2.show(10)"
   ]
  },
  {
   "cell_type": "code",
   "execution_count": 36,
   "id": "c1eae92f-df66-46b3-8f5f-77470e75f1ea",
   "metadata": {},
   "outputs": [
    {
     "name": "stdout",
     "output_type": "stream",
     "text": [
      "+--------------------+--------------------+--------------------+----------------+\n",
      "|          country_mb|performance_category|           artist_mb|listeners_lastfm|\n",
      "+--------------------+--------------------+--------------------+----------------+\n",
      "|          Bumblefoot|      Most listeners| Steve “Lips” Kudlow|            null|\n",
      "|  id. Csillag Ferenc|      Most listeners|\"Farkas Rudolf \"\"...|            null|\n",
      "|         Afghanistan|     Least listeners|Abdulhakím Khudáy...|               0|\n",
      "|         Afghanistan|      Most listeners|                Adam|           23540|\n",
      "|             Albania|     Least listeners|            Dardanny|               1|\n",
      "|             Albania|      Most listeners|          King Ku$ha|           14046|\n",
      "|             Algeria|     Least listeners|            H'sissen|               0|\n",
      "|             Algeria|      Most listeners|              Khaled|          179375|\n",
      "|              Angola|     Least listeners|      Isodora Campos|               0|\n",
      "|              Angola|      Most listeners|               Bonga|           55981|\n",
      "|            Anguilla|     Least listeners|        Darius James|              11|\n",
      "|            Anguilla|      Most listeners|                Luba|            7372|\n",
      "|           Argentina|     Least listeners|        Abel Córdoba|               0|\n",
      "|           Argentina|      Most listeners| Gustavo Santaolalla|          407634|\n",
      "|             Belgium|     Least listeners|         2 Many DJ’s|               0|\n",
      "|             Belgium|      Most listeners|        Hooverphonic|          996769|\n",
      "|               Benin|     Least listeners|     Chanteurs Somba|               0|\n",
      "|               Benin|      Most listeners|       Lionel Loueke|           19289|\n",
      "|British Virgin Is...|     Least listeners|     Deh Dog Himself|               1|\n",
      "|British Virgin Is...|      Most listeners|                Iyaz|          704826|\n",
      "+--------------------+--------------------+--------------------+----------------+\n",
      "only showing top 20 rows\n",
      "\n"
     ]
    }
   ],
   "source": [
    "#Drop duplicates and keep first for each least/most per country\n",
    "worst_best_artist_table2.dropDuplicates(['country_mb', 'performance_category']).show()"
   ]
  },
  {
   "cell_type": "code",
   "execution_count": 37,
   "id": "334382e9-d801-4709-a71e-a8de85ce5dae",
   "metadata": {},
   "outputs": [],
   "source": [
    "bucket = \"spotify_data_de\"\n",
    "spark.conf.set('temporaryGcsBucket', bucket)\n",
    "# Saving the data to BigQuery\n",
    "worst_best_artist_table2.write.format('bigquery') \\\n",
    "  .option('table', 'de2022-362617.spotify.artists') \\\n",
    "  .mode(\"overwrite\") \\\n",
    "  .save()"
   ]
  },
  {
   "cell_type": "code",
   "execution_count": 32,
   "id": "aa621131-26cb-48a8-8f6b-6e01934395ae",
   "metadata": {},
   "outputs": [],
   "source": [
    "# Stop the spark context\n",
    "spark.stop()"
   ]
  }
 ],
 "metadata": {
  "kernelspec": {
   "display_name": "Python 3 (ipykernel)",
   "language": "python",
   "name": "python3"
  },
  "language_info": {
   "codemirror_mode": {
    "name": "ipython",
    "version": 3
   },
   "file_extension": ".py",
   "mimetype": "text/x-python",
   "name": "python",
   "nbconvert_exporter": "python",
   "pygments_lexer": "ipython3",
   "version": "3.10.6"
  }
 },
 "nbformat": 4,
 "nbformat_minor": 5
}
